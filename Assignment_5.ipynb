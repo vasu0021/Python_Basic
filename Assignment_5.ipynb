{
 "cells": [
  {
   "cell_type": "markdown",
   "id": "52a4605f-4373-4f50-80ff-6d2ea0e94518",
   "metadata": {},
   "source": [
    "## 1. Write a Python Program to Find LCM?"
   ]
  },
  {
   "cell_type": "code",
   "execution_count": 8,
   "id": "6ab61cdd-feec-4c11-812e-5f06da4ea9c8",
   "metadata": {},
   "outputs": [
    {
     "name": "stdin",
     "output_type": "stream",
     "text": [
      "Enter a number: 2\n",
      "Enter a number: 4\n"
     ]
    },
    {
     "name": "stdout",
     "output_type": "stream",
     "text": [
      "The LCM of 2 and 4 is 4\n"
     ]
    }
   ],
   "source": [
    "num1= int(input(\"Enter a number:\" ))\n",
    "num2= int(input(\"Enter a number:\" ))\n",
    "\n",
    "numMax= max(num1,num2)\n",
    "\n",
    "while(True):\n",
    "    if(numMax%num1==0 and numMax%num2==0):\n",
    "        break\n",
    "    numMax= numMax+1\n",
    "\n",
    "print(f\"The LCM of {num1} and {num2} is {numMax}\")\n"
   ]
  },
  {
   "cell_type": "markdown",
   "id": "355fdd16-1bab-4a5d-935b-730fdb3dab35",
   "metadata": {},
   "source": [
    "## 2. Write a Python Program to Find HCF?"
   ]
  },
  {
   "cell_type": "code",
   "execution_count": 10,
   "id": "88690572-52f3-4910-9045-77adfd0cb864",
   "metadata": {},
   "outputs": [
    {
     "name": "stdin",
     "output_type": "stream",
     "text": [
      "Enter a number: 4\n",
      "Enter a number: 28\n"
     ]
    },
    {
     "name": "stdout",
     "output_type": "stream",
     "text": [
      "The HCF OF 4 and 28 is 4\n"
     ]
    }
   ],
   "source": [
    "num1= int(input(\"Enter a number:\" ))\n",
    "num2= int(input(\"Enter a number:\" ))\n",
    "\n",
    "if num2>num1:\n",
    "    mn=num1\n",
    "else:\n",
    "    mn=num2\n",
    "\n",
    "for i in range(1, mn+1):\n",
    "    if num1%i== 0 and num2%i== 0 :\n",
    "        HCF = i\n",
    "print(f\"The HCF OF {num1} and {num2} is {HCF}\")\n",
    "\n",
    "\n",
    "        \n"
   ]
  },
  {
   "cell_type": "markdown",
   "id": "00cd0cee-f367-4d63-8b22-462ce8d134c2",
   "metadata": {},
   "source": [
    "## 3.Write a Python Program to Convert Decimal to Binary, Octal and Hexadecimal?"
   ]
  },
  {
   "cell_type": "code",
   "execution_count": 11,
   "id": "dd3e3b55-e8ff-4bb4-94da-7c93e5f707de",
   "metadata": {},
   "outputs": [
    {
     "name": "stdin",
     "output_type": "stream",
     "text": [
      "Enter the number: 9\n"
     ]
    },
    {
     "name": "stdout",
     "output_type": "stream",
     "text": [
      "covertion of decimal number 9\n",
      "0b1001 IN BINARY\n",
      "0x9 IN HEXADECIMAL\n",
      "0o11 IN OCTAL\n"
     ]
    }
   ],
   "source": [
    "decimal=int(input(\"Enter the number:\"))\n",
    "\n",
    "print(\"covertion of decimal number\",decimal)\n",
    "\n",
    "print(bin(decimal),\"IN BINARY\")\n",
    "print(hex(decimal),\"IN HEXADECIMAL\")\n",
    "print(oct(decimal),\"IN OCTAL\")"
   ]
  },
  {
   "cell_type": "markdown",
   "id": "24b5f9a0-20ac-4e0e-b4dc-6753731718a6",
   "metadata": {},
   "source": [
    "## 4. Write a Python Program To Find ASCII value of a character?"
   ]
  },
  {
   "cell_type": "code",
   "execution_count": 6,
   "id": "d456d2f2-fd28-4107-8695-74925a1f4c16",
   "metadata": {},
   "outputs": [
    {
     "name": "stdin",
     "output_type": "stream",
     "text": [
      "Enter a character: p\n"
     ]
    },
    {
     "name": "stdout",
     "output_type": "stream",
     "text": [
      "The value of p is 112\n"
     ]
    }
   ],
   "source": [
    "ASCII=input(\"Enter a character:\")\n",
    "\n",
    "print(\"The value of\",ASCII,\"is\",ord(ASCII)) #ord()"
   ]
  },
  {
   "cell_type": "markdown",
   "id": "a7ea7025-c551-4c6a-b733-010ac557197e",
   "metadata": {},
   "source": [
    "## 5.Write a Python Program to Make a Simple Calculator with 4 basic mathematical operations?"
   ]
  },
  {
   "cell_type": "code",
   "execution_count": 11,
   "id": "6b1bffc5-ee0b-490e-a815-1b3861e6be9d",
   "metadata": {},
   "outputs": [
    {
     "name": "stdin",
     "output_type": "stream",
     "text": [
      "Enter first number: 2\n",
      "Enter second number: 2\n"
     ]
    },
    {
     "name": "stdout",
     "output_type": "stream",
     "text": [
      "press 1 for addition \n",
      "press 2 for subtraction \n",
      "press 3 for multiplication \n",
      "press 4 for divide\n"
     ]
    },
    {
     "name": "stdin",
     "output_type": "stream",
     "text": [
      "enter a choise: 4\n"
     ]
    },
    {
     "name": "stdout",
     "output_type": "stream",
     "text": [
      "div 1.0\n"
     ]
    }
   ],
   "source": [
    "num_1=float(input(\"Enter first number:\"))\n",
    "num_2=float(input(\"Enter second number:\"))\n",
    "\n",
    "print(\"press 1 for addition \\npress 2 for subtraction \\npress 3 for multiplication \\npress 4 for divide\" )\n",
    "\n",
    "choice=int(input(\"enter a choise:\"))\n",
    "\n",
    "if choice == 1:\n",
    "    print(\"sum\",num_1+num_2 )\n",
    "if choice == 2:\n",
    "    print(\"sub\",num_1-num_2)\n",
    "if choice == 3:\n",
    "    print(\"multi\",num_1*num_2)\n",
    "if choice == 4:\n",
    "    print (\"div\",num_1/ num_2)"
   ]
  },
  {
   "cell_type": "code",
   "execution_count": null,
   "id": "655efe62-8d60-4d4c-9f2c-43b48672791a",
   "metadata": {},
   "outputs": [],
   "source": []
  }
 ],
 "metadata": {
  "kernelspec": {
   "display_name": "Python 3 (ipykernel)",
   "language": "python",
   "name": "python3"
  },
  "language_info": {
   "codemirror_mode": {
    "name": "ipython",
    "version": 3
   },
   "file_extension": ".py",
   "mimetype": "text/x-python",
   "name": "python",
   "nbconvert_exporter": "python",
   "pygments_lexer": "ipython3",
   "version": "3.13.5"
  }
 },
 "nbformat": 4,
 "nbformat_minor": 5
}
