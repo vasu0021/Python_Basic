{
 "cells": [
  {
   "cell_type": "markdown",
   "id": "6e0b003d-ba96-4d21-905f-efc99db8acad",
   "metadata": {},
   "source": [
    "## 1.Write a Python Program to Find the Factorial of a Number?"
   ]
  },
  {
   "cell_type": "code",
   "execution_count": 7,
   "id": "02249c2f-f3f7-470e-93e0-00b8410c9083",
   "metadata": {},
   "outputs": [
    {
     "name": "stdin",
     "output_type": "stream",
     "text": [
      "enter a number 45\n"
     ]
    },
    {
     "name": "stdout",
     "output_type": "stream",
     "text": [
      "119622220865480194561963161495657715064383733760000000000\n"
     ]
    }
   ],
   "source": [
    "num=int(input(\"enter a number\"))\n",
    "\n",
    "fact = 1\n",
    "a=1\n",
    "\n",
    "while a<=num:\n",
    "    fact= fact*a\n",
    "    a=a+1\n",
    "print(fact)"
   ]
  },
  {
   "cell_type": "markdown",
   "id": "97e12f9c-f0e6-4378-ac4b-de173336ecf6",
   "metadata": {},
   "source": [
    "## 2.Write a Python Program to Display the multiplication Table?"
   ]
  },
  {
   "cell_type": "code",
   "execution_count": 12,
   "id": "9476bf6e-56ad-4645-a6a8-8e856e8045f1",
   "metadata": {},
   "outputs": [
    {
     "name": "stdin",
     "output_type": "stream",
     "text": [
      "Enter the number 2\n"
     ]
    },
    {
     "name": "stdout",
     "output_type": "stream",
     "text": [
      "2 * 1 = 2\n",
      "2 * 2 = 4\n",
      "2 * 3 = 6\n",
      "2 * 4 = 8\n",
      "2 * 5 = 10\n",
      "2 * 6 = 12\n",
      "2 * 7 = 14\n",
      "2 * 8 = 16\n",
      "2 * 9 = 18\n",
      "2 * 10 = 20\n"
     ]
    }
   ],
   "source": [
    "n = int(input(\"Enter the number\"))\n",
    "\n",
    "for i in range(1,11):\n",
    "    print(n,\"*\",i,\"=\",i*num)"
   ]
  },
  {
   "cell_type": "markdown",
   "id": "eed6cf46-78cf-4582-8a5e-d1c51e1daa66",
   "metadata": {},
   "source": [
    "## 3.Write a Python Program to Print the Fibonacci sequence?"
   ]
  },
  {
   "cell_type": "code",
   "execution_count": 12,
   "id": "951dc664-9e13-4d15-b796-84ed36d56ed2",
   "metadata": {},
   "outputs": [
    {
     "name": "stdin",
     "output_type": "stream",
     "text": [
      "Enter a number for obtain Fibonacci Sequence 7\n"
     ]
    },
    {
     "name": "stdout",
     "output_type": "stream",
     "text": [
      "0\n",
      "1\n",
      "1\n",
      "2\n",
      "3\n",
      "5\n",
      "8\n",
      "13\n",
      "21\n"
     ]
    }
   ],
   "source": [
    "a = 0\n",
    "b = 1\n",
    "num = int(input(\"Enter a number for obtain Fibonacci Sequence\"))\n",
    "\n",
    "if num == 1:\n",
    "    print(a)\n",
    "else:\n",
    "    print(a)\n",
    "    print(b)\n",
    "    for i in range(1,num+1):\n",
    "        c = a + b\n",
    "        a = b\n",
    "        b = c\n",
    "        print(c)"
   ]
  },
  {
   "cell_type": "markdown",
   "id": "9e59b29e-dc4a-400a-b624-eabb29f5963c",
   "metadata": {},
   "source": [
    "## 4.Write a Python Program to Check Armstrong Number?"
   ]
  },
  {
   "cell_type": "code",
   "execution_count": 13,
   "id": "5569a368-528e-476a-9822-ec223d58fcb8",
   "metadata": {},
   "outputs": [
    {
     "name": "stdin",
     "output_type": "stream",
     "text": [
      "Enter the number : 153\n"
     ]
    },
    {
     "name": "stdout",
     "output_type": "stream",
     "text": [
      "yes it is an armstrong number\n"
     ]
    }
   ],
   "source": [
    "num = int(input(\"Enter the number :\"))\n",
    "order = len(str(num))\n",
    "\n",
    "sum = 0\n",
    "temp = num\n",
    "\n",
    "while temp>0:\n",
    "    digit = temp%10\n",
    "    sum += digit**order\n",
    "    temp //=10\n",
    "\n",
    "if sum == num:\n",
    "    print(\"yes it is an armstrong number\")\n",
    "else:\n",
    "    print(\"no it is not an armstrong number\")\n",
    "    "
   ]
  },
  {
   "cell_type": "markdown",
   "id": "3badb8b0-5bb6-433c-87c7-541b95b676bc",
   "metadata": {},
   "source": [
    "## 5.Write a Python Program to Find Armstrong Number in an Interval?"
   ]
  },
  {
   "cell_type": "code",
   "execution_count": 19,
   "id": "f70db52e-7569-4d7d-92dd-7d38a873549d",
   "metadata": {},
   "outputs": [
    {
     "name": "stdin",
     "output_type": "stream",
     "text": [
      "Enter lower range : 100\n",
      "Enter uppar range : 1000\n"
     ]
    },
    {
     "name": "stdout",
     "output_type": "stream",
     "text": [
      "153\n",
      "370\n",
      "371\n",
      "407\n"
     ]
    }
   ],
   "source": [
    "lower= int(input(\"Enter lower range :\"))\n",
    "uppar =int(input(\"Enter uppar range :\"))\n",
    "\n",
    "for num in range (lower, uppar+1):\n",
    "    \n",
    "    order = len(str(num))\n",
    "    sum = 0\n",
    "    temp = num\n",
    "    \n",
    "    while temp>0:\n",
    "        digit = temp%10\n",
    "        sum += digit**order\n",
    "        temp //=10\n",
    "    if num == sum:\n",
    "        print(num)\n",
    "        "
   ]
  },
  {
   "cell_type": "markdown",
   "id": "02bc1fbe-e0de-48f7-bd78-c0fc0244629a",
   "metadata": {},
   "source": [
    "## 6. Write a Python Program to Find the Sum of Natural Numbers?"
   ]
  },
  {
   "cell_type": "code",
   "execution_count": null,
   "id": "ed212942-da04-48a1-ba51-663615c35efd",
   "metadata": {},
   "outputs": [],
   "source": [
    "num = int(input(\"enter a number:\"))\n",
    "\n",
    "if num>0:\n",
    "    print(\"enter the postive number\")\n",
    "else:\n",
    "    sum=0\n",
    "    while num>0:\n",
    "        sum+=num\n",
    "        num-="
   ]
  }
 ],
 "metadata": {
  "kernelspec": {
   "display_name": "Python 3 (ipykernel)",
   "language": "python",
   "name": "python3"
  },
  "language_info": {
   "codemirror_mode": {
    "name": "ipython",
    "version": 3
   },
   "file_extension": ".py",
   "mimetype": "text/x-python",
   "name": "python",
   "nbconvert_exporter": "python",
   "pygments_lexer": "ipython3",
   "version": "3.13.5"
  }
 },
 "nbformat": 4,
 "nbformat_minor": 5
}
